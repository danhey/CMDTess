{
 "cells": [
  {
   "cell_type": "code",
   "execution_count": 1,
   "metadata": {},
   "outputs": [],
   "source": [
    "from bokeh.models import BoxZoomTool\n",
    "import pandas as pd\n",
    "import numpy as np"
   ]
  },
  {
   "cell_type": "code",
   "execution_count": 2,
   "metadata": {},
   "outputs": [],
   "source": [
    "import glob\n",
    "tics = glob.glob('/run/user/1000/gvfs/smb-share:server=silo.physics.usyd.edu.au,share=silo2/dhey3294/TESS/Searches/TESS_pg/res/*.png')\n",
    "\n",
    "# Some glomming of files and ids\n",
    "ticids = [tic.split('/res/')[-1].split('.')[0] for tic in tics]\n",
    "tic_pg = pd.DataFrame({\n",
    "    'ID': ticids,\n",
    "    'files': tics\n",
    "})"
   ]
  },
  {
   "cell_type": "code",
   "execution_count": 3,
   "metadata": {},
   "outputs": [],
   "source": [
    "# from tqdm import tqdm\n",
    "\n",
    "# # We need to chunk up our query because MAST will time-out.. sorry servers!\n",
    "# chunked_ids = np.array_split(ticids, 100)\n",
    "# df = Catalogs.query_criteria(catalog=\"Tic\", ID=chunked_ids[0]).to_pandas()\n",
    "# for chunked_id in tqdm(chunked_ids[1:]):\n",
    "#     df = df.append(Catalogs.query_criteria(catalog=\"Tic\", ID=chunked_id).to_pandas())"
   ]
  },
  {
   "cell_type": "code",
   "execution_count": 4,
   "metadata": {},
   "outputs": [],
   "source": [
    "df = pd.read_csv('tic_query.csv', dtype={'ID': str})\n",
    "# df.to_csv('tic_query.csv')"
   ]
  },
  {
   "cell_type": "code",
   "execution_count": 5,
   "metadata": {},
   "outputs": [],
   "source": [
    "# # Let's merge our dataframes\n",
    "# test = df.merge(tic_pg, left_on='ID', right_on='ID')\n",
    "# mask = (np.isfinite(test['Teff'])) & (np.isfinite(test['lum']))"
   ]
  },
  {
   "cell_type": "code",
   "execution_count": 6,
   "metadata": {},
   "outputs": [],
   "source": [
    "github_files = [f'https://github.com/danhey/HRDTess/raw/master/data/{ticid}.png' for ticid in ticids]\n",
    "# tic_pg = pd.DataFrame({\n",
    "#     'ID': ticids,\n",
    "#     'files': github_files\n",
    "# })\n",
    "test = df.merge(tic_pg, left_on='ID', right_on='ID')\n",
    "mask = (np.isfinite(test['Teff'])) & (np.isfinite(test['lum']))"
   ]
  },
  {
   "cell_type": "code",
   "execution_count": null,
   "metadata": {},
   "outputs": [],
   "source": [
    "(test[mask]['gaiabp'] - test[mask]['gaiarp']).values"
   ]
  },
  {
   "cell_type": "code",
   "execution_count": 53,
   "metadata": {},
   "outputs": [
    {
     "name": "stderr",
     "output_type": "stream",
     "text": [
      "/home/daniel/anaconda3/lib/python3.7/site-packages/ipykernel_launcher.py:2: RuntimeWarning: invalid value encountered in log10\n",
      "  \n"
     ]
    }
   ],
   "source": [
    "test['b-r'] = test['gaiabp'] - test['gaiarp']\n",
    "test['absmag'] = test['GAIAmag'].values - 5 * np.log10(1/(test['plx'].values)*1000) + 5"
   ]
  },
  {
   "cell_type": "code",
   "execution_count": 54,
   "metadata": {},
   "outputs": [
    {
     "data": {
      "image/png": "[encoded data removed]",
      "text/plain": [
       "<Figure size 504x864 with 1 Axes>"
      ]
     },
     "metadata": {
      "needs_background": "light"
     },
     "output_type": "display_data"
    }
   ],
   "source": [
    "import matplotlib.pyplot as plt\n",
    "plt.figure(figsize=[7,12])\n",
    "plt.plot(test['b-r'], test['absmag'], ',k')\n",
    "# plt.ylim(3.6, 2.4)\n",
    "# plt.ylim(35,10)\n",
    "plt.xlim(-1,6)\n",
    "plt.ylim(35,-3)\n",
    "plt.show()\n"
   ]
  },
  {
   "cell_type": "code",
   "execution_count": null,
   "metadata": {},
   "outputs": [],
   "source": []
  },
  {
   "cell_type": "code",
   "execution_count": null,
   "metadata": {},
   "outputs": [],
   "source": [
    "mask = (np.isfinite(test['Teff'])) & (np.isfinite(test['lum']))"
   ]
  },
  {
   "cell_type": "code",
   "execution_count": 58,
   "metadata": {},
   "outputs": [],
   "source": [
    "from bokeh.plotting import figure, output_file, show, ColumnDataSource\n",
    "from bokeh.models import HoverTool\n",
    "\n",
    "output_file(\"index.html\")\n",
    "\n",
    "source = ColumnDataSource(\n",
    "        data=dict(\n",
    "            x=test['b-r'].values,\n",
    "            y=test['absmag'].values,\n",
    "            imgs = test['files'].values,\n",
    "            desc = test['ID'].values\n",
    "        )\n",
    "    )\n",
    "\n",
    "hover = HoverTool(# height=\"200\" alt=\"@imgs\" width=\"500\"\n",
    "        tooltips=\"\"\"\n",
    "        <div>\n",
    "            <div>\n",
    "                <img\n",
    "                    src=\"@imgs\"\n",
    "                    border=\"2\"\n",
    "                ></img>\n",
    "            </div>\n",
    "            <div>\n",
    "                <span style=\"font-size: 17px; font-weight: bold;\">TIC @desc</span>\n",
    "            </div>\n",
    "        </div>\n",
    "        \"\"\"\n",
    "    )\n",
    "\n",
    "p = figure(#plot_width=900, plot_height=900, \n",
    "           tools=[hover, 'zoom_in', 'undo', 'box_zoom', 'reset'],\n",
    "           title=\"TESS in the Southern Hemisphere\", \n",
    "           toolbar_location=\"above\",\n",
    "           sizing_mode='stretch_both',\n",
    "           x_range=(-1,6), y_range=(16,-5)\n",
    "          )\n",
    "\n",
    "p.circle('x', 'y', \n",
    "         radius=0.006,\n",
    "#          size=7,\n",
    "         fill_color=\"firebrick\", \n",
    "         line_color='black',\n",
    "         source=source)\n",
    "\n",
    "p.xaxis.axis_label = 'Gaia BP - RP'\n",
    "p.yaxis.axis_label = 'Gaia G absolute magnitude'\n",
    "p.xaxis.axis_label_text_font_size = \"18pt\"\n",
    "p.yaxis.axis_label_text_font_size = \"18pt\"\n",
    "p.xaxis.major_label_text_font_size = \"15pt\"\n",
    "p.yaxis.major_label_text_font_size = \"15pt\"\n",
    "p.title.text_font_size = \"15pt\"\n",
    "\n",
    "p.xaxis.axis_label_text_font_style = 'normal'\n",
    "p.yaxis.axis_label_text_font_style = 'normal'\n",
    "\n",
    "show(p)"
   ]
  },
  {
   "cell_type": "code",
   "execution_count": null,
   "metadata": {},
   "outputs": [],
   "source": []
  }
 ],
 "metadata": {
  "kernelspec": {
   "display_name": "Python 3",
   "language": "python",
   "name": "python3"
  },
  "language_info": {
   "codemirror_mode": {
    "name": "ipython",
    "version": 3
   },
   "file_extension": ".py",
   "mimetype": "text/x-python",
   "name": "python",
   "nbconvert_exporter": "python",
   "pygments_lexer": "ipython3",
   "version": "3.7.3"
  }
 },
 "nbformat": 4,
 "nbformat_minor": 4
}
